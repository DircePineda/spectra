{
 "cells": [
  {
   "cell_type": "code",
   "execution_count": 1,
   "id": "9d84627b",
   "metadata": {
    "execution": {
     "iopub.execute_input": "2023-10-12T20:26:36.241501Z",
     "iopub.status.busy": "2023-10-12T20:26:36.240744Z",
     "iopub.status.idle": "2023-10-12T20:26:38.816811Z",
     "shell.execute_reply": "2023-10-12T20:26:38.815571Z"
    },
    "papermill": {
     "duration": 2.582585,
     "end_time": "2023-10-12T20:26:38.819317",
     "exception": false,
     "start_time": "2023-10-12T20:26:36.236732",
     "status": "completed"
    },
    "tags": []
   },
   "outputs": [],
   "source": [
    "import pandas as pd\n",
    "import numpy as np\n",
    "from sklearn.preprocessing import StandardScaler\n",
    "\n",
    "# Load CSV file\n",
    "data = pd.read_csv('/kaggle/input/blood-malaria/blood2hinfected532nm5pp.csv')\n",
    "\n",
    "# Extract data from DataFrame\n",
    "spectra = data.iloc[:, 1:]\n",
    "\n",
    "# Step 1: Mean Centering\n",
    "mean_values = np.mean(spectra, axis=1)\n",
    "mean_centered_spectra = spectra.sub(mean_values, axis=0)\n",
    "\n",
    "# Step 2: Scaling to Standard Deviation (SNV) --> contains SNV-normalized Raman spectra\n",
    "scaler = StandardScaler()\n",
    "snv_normalized_spectra = scaler.fit_transform(mean_centered_spectra)\n",
    "\n",
    "# To put normalized data back into a DataFrame\n",
    "normalized_data = pd.DataFrame(snv_normalized_spectra, columns=data.columns[1:])\n",
    "\n",
    "# Save data to new CSV file\n",
    "normalized_data.to_csv('snv_normalized_data.csv', index=False)"
   ]
  }
 ],
 "metadata": {
  "kernelspec": {
   "display_name": "Python 3",
   "language": "python",
   "name": "python3"
  },
  "language_info": {
   "codemirror_mode": {
    "name": "ipython",
    "version": 3
   },
   "file_extension": ".py",
   "mimetype": "text/x-python",
   "name": "python",
   "nbconvert_exporter": "python",
   "pygments_lexer": "ipython3",
   "version": "3.10.12"
  },
  "papermill": {
   "default_parameters": {},
   "duration": 6.46181,
   "end_time": "2023-10-12T20:26:39.441948",
   "environment_variables": {},
   "exception": null,
   "input_path": "__notebook__.ipynb",
   "output_path": "__notebook__.ipynb",
   "parameters": {},
   "start_time": "2023-10-12T20:26:32.980138",
   "version": "2.4.0"
  }
 },
 "nbformat": 4,
 "nbformat_minor": 5
}
