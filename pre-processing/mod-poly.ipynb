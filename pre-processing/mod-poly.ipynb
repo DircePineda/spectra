{
 "cells": [
  {
   "cell_type": "code",
   "execution_count": 1,
   "id": "6790e86f",
   "metadata": {
    "_cell_guid": "b1076dfc-b9ad-4769-8c92-a6c4dae69d19",
    "_uuid": "8f2839f25d086af736a60e9eeb907d3b93b6e0e5",
    "execution": {
     "iopub.execute_input": "2023-10-12T20:00:44.044195Z",
     "iopub.status.busy": "2023-10-12T20:00:44.043600Z",
     "iopub.status.idle": "2023-10-12T20:00:46.768752Z",
     "shell.execute_reply": "2023-10-12T20:00:46.767585Z"
    },
    "papermill": {
     "duration": 2.731841,
     "end_time": "2023-10-12T20:00:46.771389",
     "exception": false,
     "start_time": "2023-10-12T20:00:44.039548",
     "status": "completed"
    },
    "tags": []
   },
   "outputs": [],
   "source": [
    "import pandas as pd\n",
    "import numpy as np\n",
    "from scipy.signal import savgol_filter\n",
    "\n",
    "# Load CSV file\n",
    "data = pd.read_csv('/kaggle/input/blood-malaria/blood2hinfected532nm5pp.csv')\n",
    "\n",
    "# Extract spectral data\n",
    "spectra = data.iloc[:, 1:]\n",
    "\n",
    "# ModPoly Baseline Correction\n",
    "def modpoly_baseline_correction(spectrum, window_length=21, polyorder=3):\n",
    "    baseline = savgol_filter(spectrum, window_length=window_length, polyorder=polyorder)\n",
    "    return baseline\n",
    "\n",
    "# Perform ModPoly baseline correction\n",
    "baseline_corrected_spectra = spectra.apply(modpoly_baseline_correction, axis=0)\n",
    "\n",
    "# Create new DataFrame\n",
    "corrected_data = pd.concat([data.iloc[:, 0], baseline_corrected_spectra], axis=1)\n",
    "\n",
    "# Save corrected data to new CSV file\n",
    "corrected_data.to_csv('/kaggle/working/ModPoly_corrected_data.csv', index=False)\n"
   ]
  }
 ],
 "metadata": {
  "kernelspec": {
   "display_name": "Python 3",
   "language": "python",
   "name": "python3"
  },
  "language_info": {
   "codemirror_mode": {
    "name": "ipython",
    "version": 3
   },
   "file_extension": ".py",
   "mimetype": "text/x-python",
   "name": "python",
   "nbconvert_exporter": "python",
   "pygments_lexer": "ipython3",
   "version": "3.10.12"
  },
  "papermill": {
   "default_parameters": {},
   "duration": 6.641022,
   "end_time": "2023-10-12T20:00:47.394282",
   "environment_variables": {},
   "exception": null,
   "input_path": "__notebook__.ipynb",
   "output_path": "__notebook__.ipynb",
   "parameters": {},
   "start_time": "2023-10-12T20:00:40.753260",
   "version": "2.4.0"
  }
 },
 "nbformat": 4,
 "nbformat_minor": 5
}
