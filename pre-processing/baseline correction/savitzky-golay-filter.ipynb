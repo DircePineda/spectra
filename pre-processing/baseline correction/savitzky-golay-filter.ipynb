{
 "cells": [
  {
   "cell_type": "code",
   "execution_count": 1,
   "id": "e5c9c417",
   "metadata": {
    "execution": {
     "iopub.execute_input": "2023-09-06T20:21:36.786058Z",
     "iopub.status.busy": "2023-09-06T20:21:36.785674Z",
     "iopub.status.idle": "2023-09-06T20:21:39.849757Z",
     "shell.execute_reply": "2023-09-06T20:21:39.848799Z"
    },
    "papermill": {
     "duration": 3.073889,
     "end_time": "2023-09-06T20:21:39.852628",
     "exception": false,
     "start_time": "2023-09-06T20:21:36.778739",
     "status": "completed"
    },
    "tags": []
   },
   "outputs": [],
   "source": [
    "# Savitzky-Golay filter \n",
    "# reduce noise:smoothing\n",
    "import pandas as pd\n",
    "import numpy as np\n",
    "from scipy.signal import savgol_filter\n",
    "\n",
    "# Load the CSV file\n",
    "data = pd.read_csv('/kaggle/input/blood-malaria/blood2hinfected532nm5pp.csv')\n",
    "\n",
    "# Extract the spectral data\n",
    "spectra = data.iloc[:, 1:]\n",
    "\n",
    "# Apply Savitzky-Golay filtering\n",
    "filtered_spectra = spectra.apply(lambda x: savgol_filter(x, window_length=5, polyorder=2, axis=0))\n",
    "\n",
    "# Create a new DataFrame with the filtered spectra\n",
    "filtered_data = pd.concat([data.iloc[:, 0], filtered_spectra], axis=1)\n",
    "\n",
    "# Save the filtered data to a new CSV file\n",
    "filtered_data.to_csv('filtered_data.csv', index=False)"
   ]
  },
  {
   "cell_type": "code",
   "execution_count": 2,
   "id": "7c1530bf",
   "metadata": {
    "execution": {
     "iopub.execute_input": "2023-09-06T20:21:39.863383Z",
     "iopub.status.busy": "2023-09-06T20:21:39.861941Z",
     "iopub.status.idle": "2023-09-06T20:21:41.371395Z",
     "shell.execute_reply": "2023-09-06T20:21:41.370120Z"
    },
    "papermill": {
     "duration": 1.517649,
     "end_time": "2023-09-06T20:21:41.374418",
     "exception": false,
     "start_time": "2023-09-06T20:21:39.856769",
     "status": "completed"
    },
    "tags": []
   },
   "outputs": [],
   "source": [
    "import pandas as pd\n",
    "import numpy as np\n",
    "from scipy.signal import savgol_filter\n",
    "\n",
    "# Load the CSV file\n",
    "data = pd.read_csv('/kaggle/input/blood-malaria/blood2hinfected532nm5pp.csv')\n",
    "\n",
    "# Extract the spectral data\n",
    "spectra = data.iloc[:, 1:]\n",
    "\n",
    "# Savitzky-Golay filter for Baseline Correction\n",
    "def savitzky_golay_baseline(data, window_size=15, polynomial_order=3):\n",
    "    baseline = np.zeros(data.shape)\n",
    "    for i in range(data.shape[1]):\n",
    "        spectrum = data.iloc[:, i]\n",
    "        baseline[:, i] = savgol_filter(spectrum, window_size, polynomial_order)\n",
    "    return baseline\n",
    "\n",
    "# Perform baseline correction\n",
    "baseline_corrected_spectra = spectra - savitzky_golay_baseline(spectra)\n",
    "\n",
    "# Create a new DataFrame with the corrected spectra\n",
    "corrected_data = pd.concat([data.iloc[:, 0], baseline_corrected_spectra], axis=1)\n",
    "\n",
    "# Save the corrected data to a new CSV file\n",
    "corrected_data.to_csv('baseline_corrected_data.csv', index=False)"
   ]
  }
 ],
 "kernelspec": {
  "display_name": "Python 3",
  "language": "python",
  "name": "python3"
 },
 "language_info": {
  "codemirror_mode": {
   "name": "ipython",
   "version": 3
  },
  "file_extension": ".py",
  "mimetype": "text/x-python",
  "name": "python",
  "nbconvert_exporter": "python",
  "pygments_lexer": "ipython3",
  "version": "3.6.4"
 },
 "metadata": {
  "kernelspec": {
   "display_name": "Python 3",
   "language": "python",
   "name": "python3"
  },
  "language_info": {
   "codemirror_mode": {
    "name": "ipython",
    "version": 3
   },
   "file_extension": ".py",
   "mimetype": "text/x-python",
   "name": "python",
   "nbconvert_exporter": "python",
   "pygments_lexer": "ipython3",
   "version": "3.10.12"
  },
  "papermill": {
   "default_parameters": {},
   "duration": 9.044103,
   "end_time": "2023-09-06T20:21:42.101810",
   "environment_variables": {},
   "exception": null,
   "input_path": "__notebook__.ipynb",
   "output_path": "__notebook__.ipynb",
   "parameters": {},
   "start_time": "2023-09-06T20:21:33.057707",
   "version": "2.4.0"
  }
 },
 "nbformat": 4,
 "nbformat_minor": 5
}
