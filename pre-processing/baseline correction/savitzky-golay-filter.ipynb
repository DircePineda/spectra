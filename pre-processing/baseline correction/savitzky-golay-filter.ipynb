{
 "cells": [
  {
   "cell_type": "code",
   "execution_count": 1,
   "id": "758cb981",
   "metadata": {
    "execution": {
     "iopub.execute_input": "2023-09-06T20:28:17.760979Z",
     "iopub.status.busy": "2023-09-06T20:28:17.760642Z",
     "iopub.status.idle": "2023-09-06T20:28:20.142023Z",
     "shell.execute_reply": "2023-09-06T20:28:20.141097Z"
    },
    "papermill": {
     "duration": 2.389329,
     "end_time": "2023-09-06T20:28:20.144697",
     "exception": false,
     "start_time": "2023-09-06T20:28:17.755368",
     "status": "completed"
    },
    "tags": []
   },
   "outputs": [],
   "source": [
    "# Savitzky-Golay filter \n",
    "# reduce noise:smoothing\n",
    "import pandas as pd\n",
    "import numpy as np\n",
    "from scipy.signal import savgol_filter\n",
    "\n",
    "# Load CSV file\n",
    "data = pd.read_csv('/kaggle/input/blood-malaria/blood2hinfected532nm5pp.csv')\n",
    "\n",
    "# Extract spectral data\n",
    "spectra = data.iloc[:, 1:]\n",
    "\n",
    "# Apply Savitzky-Golay filtering\n",
    "filtered_spectra = spectra.apply(lambda x: savgol_filter(x, window_length=5, polyorder=2, axis=0))\n",
    "\n",
    "# Create new DataFrame with filtered spectra\n",
    "filtered_data = pd.concat([data.iloc[:, 0], filtered_spectra], axis=1)\n",
    "\n",
    "# Save filtered data to new CSV file\n",
    "filtered_data.to_csv('filtered_data.csv', index=False)"
   ]
  },
  {
   "cell_type": "code",
   "execution_count": 2,
   "id": "8e0c6874",
   "metadata": {
    "execution": {
     "iopub.execute_input": "2023-09-06T20:28:20.152710Z",
     "iopub.status.busy": "2023-09-06T20:28:20.151911Z",
     "iopub.status.idle": "2023-09-06T20:28:21.198863Z",
     "shell.execute_reply": "2023-09-06T20:28:21.197878Z"
    },
    "papermill": {
     "duration": 1.053486,
     "end_time": "2023-09-06T20:28:21.201460",
     "exception": false,
     "start_time": "2023-09-06T20:28:20.147974",
     "status": "completed"
    },
    "tags": []
   },
   "outputs": [],
   "source": [
    "# Savitzky-Golay filter \n",
    "import pandas as pd\n",
    "import numpy as np\n",
    "from scipy.signal import savgol_filter\n",
    "\n",
    "# Load CSV file\n",
    "data = pd.read_csv('/kaggle/input/blood-malaria/blood2hinfected532nm5pp.csv')\n",
    "\n",
    "# Extract spectral data\n",
    "spectra = data.iloc[:, 1:]\n",
    "\n",
    "# Savitzky-Golay filter\n",
    "def savitzky_golay_baseline(data, window_size=15, polynomial_order=3):\n",
    "    baseline = np.zeros(data.shape)\n",
    "    for i in range(data.shape[1]):\n",
    "        spectrum = data.iloc[:, i]\n",
    "        baseline[:, i] = savgol_filter(spectrum, window_size, polynomial_order)\n",
    "    return baseline\n",
    "\n",
    "# Perform baseline correction\n",
    "baseline_corrected_spectra = spectra - savitzky_golay_baseline(spectra)\n",
    "\n",
    "# Create new DataFrame with corrected spectra\n",
    "corrected_data = pd.concat([data.iloc[:, 0], baseline_corrected_spectra], axis=1)\n",
    "\n",
    "# Save corrected data to new CSV file\n",
    "corrected_data.to_csv('baseline_corrected_data.csv', index=False)"
   ]
  }
 ],
 "kernelspec": {
  "display_name": "Python 3",
  "language": "python",
  "name": "python3"
 },
 "language_info": {
  "codemirror_mode": {
   "name": "ipython",
   "version": 3
  },
  "file_extension": ".py",
  "mimetype": "text/x-python",
  "name": "python",
  "nbconvert_exporter": "python",
  "pygments_lexer": "ipython3",
  "version": "3.6.4"
 },
 "metadata": {
  "kernelspec": {
   "display_name": "Python 3",
   "language": "python",
   "name": "python3"
  },
  "language_info": {
   "codemirror_mode": {
    "name": "ipython",
    "version": 3
   },
   "file_extension": ".py",
   "mimetype": "text/x-python",
   "name": "python",
   "nbconvert_exporter": "python",
   "pygments_lexer": "ipython3",
   "version": "3.10.12"
  },
  "papermill": {
   "default_parameters": {},
   "duration": 7.01856,
   "end_time": "2023-09-06T20:28:21.623882",
   "environment_variables": {},
   "exception": null,
   "input_path": "__notebook__.ipynb",
   "output_path": "__notebook__.ipynb",
   "parameters": {},
   "start_time": "2023-09-06T20:28:14.605322",
   "version": "2.4.0"
  }
 },
 "nbformat": 4,
 "nbformat_minor": 5
}
