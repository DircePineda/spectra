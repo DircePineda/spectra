{
 "cells": [
  {
   "cell_type": "code",
   "execution_count": 1,
   "id": "88d49b83",
   "metadata": {
    "execution": {
     "iopub.execute_input": "2023-09-06T20:01:28.008826Z",
     "iopub.status.busy": "2023-09-06T20:01:28.008456Z",
     "iopub.status.idle": "2023-09-06T20:01:29.594382Z",
     "shell.execute_reply": "2023-09-06T20:01:29.593388Z"
    },
    "papermill": {
     "duration": 1.594506,
     "end_time": "2023-09-06T20:01:29.597427",
     "exception": false,
     "start_time": "2023-09-06T20:01:28.002921",
     "status": "completed"
    },
    "tags": []
   },
   "outputs": [
    {
     "name": "stderr",
     "output_type": "stream",
     "text": [
      "/opt/conda/lib/python3.10/site-packages/scipy/__init__.py:146: UserWarning: A NumPy version >=1.16.5 and <1.23.0 is required for this version of SciPy (detected version 1.23.5\n",
      "  warnings.warn(f\"A NumPy version >={np_minversion} and <{np_maxversion}\"\n"
     ]
    }
   ],
   "source": [
    "import pandas as pd\n",
    "import numpy as np\n",
    "from scipy.signal import medfilt\n",
    "\n",
    "# Load the CSV file\n",
    "data = pd.read_csv('/kaggle/input/txt-to-csv/bloodinfectxt.extracted.csv')\n",
    "\n",
    "# Extract the wavelength values and spectral data\n",
    "wavelengths = data.iloc[:, 0]\n",
    "spectra = data.iloc[:, 1:]\n",
    "\n",
    "# Convert spectral data to numeric values\n",
    "spectra = spectra.apply(pd.to_numeric, errors='coerce')\n",
    "\n",
    "# Rolling Ball Algorithm for Baseline Correction\n",
    "def rolling_ball_baseline(spectrum, ball_radius=10):\n",
    "    baseline = medfilt(spectrum, kernel_size=2 * ball_radius + 1)\n",
    "    return baseline\n",
    "\n",
    "# Perform baseline correction for each spectrum\n",
    "rolling_ball_corrected = np.zeros_like(spectra)\n",
    "for i in range(spectra.shape[1]):\n",
    "    rolling_ball_corrected[:, i] = spectra.iloc[:, i] - rolling_ball_baseline(spectra.iloc[:, i])\n",
    "\n",
    "# Create a new DataFrame with the corrected spectra\n",
    "corrected_data = pd.concat([wavelengths, pd.DataFrame(rolling_ball_corrected, columns=spectra.columns)], axis=1)\n",
    "\n",
    "# Save the corrected data to a new CSV file\n",
    "corrected_data.to_csv('rolling_ball_corrected_data.csv', index=False)"
   ]
  },
  {
   "cell_type": "code",
   "execution_count": 2,
   "id": "b265aeda",
   "metadata": {
    "execution": {
     "iopub.execute_input": "2023-09-06T20:01:29.606324Z",
     "iopub.status.busy": "2023-09-06T20:01:29.605527Z",
     "iopub.status.idle": "2023-09-06T20:01:30.701327Z",
     "shell.execute_reply": "2023-09-06T20:01:30.699591Z"
    },
    "papermill": {
     "duration": 1.103627,
     "end_time": "2023-09-06T20:01:30.704765",
     "exception": false,
     "start_time": "2023-09-06T20:01:29.601138",
     "status": "completed"
    },
    "tags": []
   },
   "outputs": [],
   "source": [
    "# CSV file of each spectrum\n",
    "import pandas as pd\n",
    "\n",
    "# Load the CSV file\n",
    "data = pd.read_csv('rolling_ball_corrected_data.csv')\n",
    "\n",
    "# Find the indices where the value 1705.003906 is repeated\n",
    "split_indices = data[data['X'].diff() > 0].index.tolist()\n",
    "\n",
    "# Add the last index to include the last spectrum\n",
    "split_indices.append(len(data))\n",
    "\n",
    "# Iterate over the split indices to separate the spectra\n",
    "for i in range(len(split_indices) - 1):\n",
    "    start_index = split_indices[i]\n",
    "    end_index = split_indices[i + 1]\n",
    "    spectrum = data.iloc[start_index:end_index]\n",
    "\n",
    "# Save each spectrum to a separate CSV file\n",
    "spectrum.to_csv(f'/kaggle/working/rolling_ball_spectrum_{i+1}.csv', index=False)"
   ]
  },
  {
   "cell_type": "code",
   "execution_count": 3,
   "id": "ccdd4f2b",
   "metadata": {
    "execution": {
     "iopub.execute_input": "2023-09-06T20:01:30.712938Z",
     "iopub.status.busy": "2023-09-06T20:01:30.712600Z",
     "iopub.status.idle": "2023-09-06T20:01:30.938638Z",
     "shell.execute_reply": "2023-09-06T20:01:30.937097Z"
    },
    "papermill": {
     "duration": 0.233369,
     "end_time": "2023-09-06T20:01:30.941547",
     "exception": false,
     "start_time": "2023-09-06T20:01:30.708178",
     "status": "completed"
    },
    "tags": []
   },
   "outputs": [
    {
     "data": {
      "image/png": "[encoded data removed]",
      "text/plain": [
       "<Figure size 640x480 with 1 Axes>"
      ]
     },
     "metadata": {},
     "output_type": "display_data"
    }
   ],
   "source": [
    "# Separate and plot spectra\n",
    "import pandas as pd\n",
    "import matplotlib.pyplot as plt\n",
    "\n",
    "# Load the CSV file\n",
    "data = pd.read_csv('/kaggle/working/rolling_ball_spectrum_64371.csv')\n",
    "\n",
    "# Find the indices where the value 1705.003906 is repeated\n",
    "split_indices = data[data['X'].diff() > 0].index.tolist()\n",
    "\n",
    "# Add the last index to include the last spectrum\n",
    "split_indices.append(len(data))\n",
    "\n",
    "# Create a list to store the separate spectra\n",
    "spectra_list = []\n",
    "\n",
    "# Iterate over the split indices to separate the spectra\n",
    "for i in range(len(split_indices) - 1):\n",
    "    start_index = split_indices[i]\n",
    "    end_index = split_indices[i + 1]\n",
    "    spectrum = data.iloc[start_index:end_index]\n",
    "    spectra_list.append(spectrum)\n",
    "\n",
    "# Plot each spectrum\n",
    "for spectrum in spectra_list:\n",
    "    plt.plot(spectrum['X'], spectrum['Y']) \n",
    "\n",
    "# Plotting\n",
    "plt.xlabel('Wavenumber')\n",
    "plt.ylabel('Intensity')\n",
    "plt.title('Raman Spectra')\n",
    "# Show the plot\n",
    "plt.show()\n"
   ]
  }
 ],
 "kernelspec": {
  "display_name": "Python 3",
  "language": "python",
  "name": "python3"
 },
 "language_info": {
  "codemirror_mode": {
   "name": "ipython",
   "version": 3
  },
  "file_extension": ".py",
  "mimetype": "text/x-python",
  "name": "python",
  "nbconvert_exporter": "python",
  "pygments_lexer": "ipython3",
  "version": "3.6.4"
 },
 "metadata": {
  "kernelspec": {
   "display_name": "Python 3",
   "language": "python",
   "name": "python3"
  },
  "language_info": {
   "codemirror_mode": {
    "name": "ipython",
    "version": 3
   },
   "file_extension": ".py",
   "mimetype": "text/x-python",
   "name": "python",
   "nbconvert_exporter": "python",
   "pygments_lexer": "ipython3",
   "version": "3.10.12"
  },
  "papermill": {
   "default_parameters": {},
   "duration": 15.50463,
   "end_time": "2023-09-06T20:01:33.611804",
   "environment_variables": {},
   "exception": null,
   "input_path": "__notebook__.ipynb",
   "output_path": "__notebook__.ipynb",
   "parameters": {},
   "start_time": "2023-09-06T20:01:18.107174",
   "version": "2.4.0"
  }
 },
 "nbformat": 4,
 "nbformat_minor": 5
}
