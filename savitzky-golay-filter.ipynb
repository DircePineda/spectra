{
 "cells": [
  {
   "cell_type": "code",
   "execution_count": 1,
   "id": "2f91f562",
   "metadata": {
    "execution": {
     "iopub.execute_input": "2023-09-06T20:15:06.102335Z",
     "iopub.status.busy": "2023-09-06T20:15:06.101908Z",
     "iopub.status.idle": "2023-09-06T20:15:09.154844Z",
     "shell.execute_reply": "2023-09-06T20:15:09.153700Z"
    },
    "papermill": {
     "duration": 3.061468,
     "end_time": "2023-09-06T20:15:09.157860",
     "exception": false,
     "start_time": "2023-09-06T20:15:06.096392",
     "status": "completed"
    },
    "tags": []
   },
   "outputs": [],
   "source": [
    "# Savitzky-Golay filter \n",
    "# reduce noise:smoothing\n",
    "import pandas as pd\n",
    "import numpy as np\n",
    "from scipy.signal import savgol_filter\n",
    "\n",
    "# Load the CSV file\n",
    "data = pd.read_csv('/kaggle/input/blood-malaria/blood2hinfected532nm5pp.csv')\n",
    "\n",
    "# Extract the spectral data\n",
    "spectra = data.iloc[:, 1:]\n",
    "\n",
    "# Apply Savitzky-Golay filtering\n",
    "filtered_spectra = spectra.apply(lambda x: savgol_filter(x, window_length=5, polyorder=2, axis=0))\n",
    "\n",
    "# Create a new DataFrame with the filtered spectra\n",
    "filtered_data = pd.concat([data.iloc[:, 0], filtered_spectra], axis=1)\n",
    "\n",
    "# Save the filtered data to a new CSV file\n",
    "filtered_data.to_csv('filtered_data.csv', index=False)"
   ]
  },
  {
   "cell_type": "code",
   "execution_count": null,
   "id": "2de1d8c2",
   "metadata": {
    "papermill": {
     "duration": 0.003075,
     "end_time": "2023-09-06T20:15:09.164686",
     "exception": false,
     "start_time": "2023-09-06T20:15:09.161611",
     "status": "completed"
    },
    "tags": []
   },
   "outputs": [],
   "source": []
  }
 ],
 "kernelspec": {
  "display_name": "Python 3",
  "language": "python",
  "name": "python3"
 },
 "language_info": {
  "codemirror_mode": {
   "name": "ipython",
   "version": 3
  },
  "file_extension": ".py",
  "mimetype": "text/x-python",
  "name": "python",
  "nbconvert_exporter": "python",
  "pygments_lexer": "ipython3",
  "version": "3.6.4"
 },
 "metadata": {
  "kernelspec": {
   "display_name": "Python 3",
   "language": "python",
   "name": "python3"
  },
  "language_info": {
   "codemirror_mode": {
    "name": "ipython",
    "version": 3
   },
   "file_extension": ".py",
   "mimetype": "text/x-python",
   "name": "python",
   "nbconvert_exporter": "python",
   "pygments_lexer": "ipython3",
   "version": "3.10.12"
  },
  "papermill": {
   "default_parameters": {},
   "duration": 7.235699,
   "end_time": "2023-09-06T20:15:09.688625",
   "environment_variables": {},
   "exception": null,
   "input_path": "__notebook__.ipynb",
   "output_path": "__notebook__.ipynb",
   "parameters": {},
   "start_time": "2023-09-06T20:15:02.452926",
   "version": "2.4.0"
  }
 },
 "nbformat": 4,
 "nbformat_minor": 5
}
