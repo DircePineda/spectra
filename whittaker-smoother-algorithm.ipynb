{
 "cells": [
  {
   "cell_type": "code",
   "execution_count": 1,
   "id": "3fef489c",
   "metadata": {
    "execution": {
     "iopub.execute_input": "2023-09-07T18:13:20.534430Z",
     "iopub.status.busy": "2023-09-07T18:13:20.533975Z",
     "iopub.status.idle": "2023-09-07T18:13:23.595719Z",
     "shell.execute_reply": "2023-09-07T18:13:23.594539Z"
    },
    "papermill": {
     "duration": 3.070589,
     "end_time": "2023-09-07T18:13:23.598433",
     "exception": false,
     "start_time": "2023-09-07T18:13:20.527844",
     "status": "completed"
    },
    "tags": []
   },
   "outputs": [],
   "source": [
    "# Whittaker Smoother\n",
    "import pandas as pd\n",
    "import numpy as np\n",
    "from scipy.sparse import diags\n",
    "from scipy.sparse.linalg import spsolve\n",
    "\n",
    "# Load the CSV file\n",
    "data = pd.read_csv('/kaggle/input/blood-malaria/blood2hinfected532nm5pp.csv')\n",
    "\n",
    "# Extract the spectral data\n",
    "spectra = data.iloc[:, 1:]\n",
    "\n",
    "def whittaker_smoother(data, lambda_, d_order=2):\n",
    "    n = data.shape[0]\n",
    "    m = data.shape[1]\n",
    "\n",
    "    d1 = diags([-1, 2, -1], [0, 1, 2], shape=(n, n), format='csc')\n",
    "    d2 = diags([-1, -1], [0, 2], shape=(n, n), format='csc')\n",
    "    d_combined = d1 + d2\n",
    "\n",
    "    a = np.ones(n)\n",
    "    a[0] = a[-1] = 1 + lambda_\n",
    "\n",
    "    baseline = np.zeros((n, m))\n",
    "    for i in range(m):\n",
    "        spectrum = data.iloc[:, i]\n",
    "        w = spsolve(diags(a, 0) + lambda_ * d_combined.T @ d_combined, spectrum)\n",
    "        baseline[:, i] = w\n",
    "\n",
    "    return baseline\n",
    "\n",
    "# Define smoothing parameter lambda\n",
    "lambda_ = 1e6\n",
    "\n",
    "# Perform baseline correction\n",
    "baseline_corrected_spectra = spectra - whittaker_smoother(spectra, lambda_)\n",
    "\n",
    "# Create new DataFrame with corrected spectra\n",
    "corrected_data = pd.concat([data.iloc[:, 0], baseline_corrected_spectra], axis=1)\n",
    "\n",
    "# Save corrected data to new CSV file\n",
    "corrected_data.to_csv('whittaker_smoothing_data.csv', index=False)"
   ]
  }
 ],
 "kernelspec": {
  "display_name": "Python 3",
  "language": "python",
  "name": "python3"
 },
 "language_info": {
  "codemirror_mode": {
   "name": "ipython",
   "version": 3
  },
  "file_extension": ".py",
  "mimetype": "text/x-python",
  "name": "python",
  "nbconvert_exporter": "python",
  "pygments_lexer": "ipython3",
  "version": "3.6.4"
 },
 "metadata": {
  "kernelspec": {
   "display_name": "Python 3",
   "language": "python",
   "name": "python3"
  },
  "language_info": {
   "codemirror_mode": {
    "name": "ipython",
    "version": 3
   },
   "file_extension": ".py",
   "mimetype": "text/x-python",
   "name": "python",
   "nbconvert_exporter": "python",
   "pygments_lexer": "ipython3",
   "version": "3.10.12"
  },
  "papermill": {
   "default_parameters": {},
   "duration": 7.208161,
   "end_time": "2023-09-07T18:13:24.124284",
   "environment_variables": {},
   "exception": null,
   "input_path": "__notebook__.ipynb",
   "output_path": "__notebook__.ipynb",
   "parameters": {},
   "start_time": "2023-09-07T18:13:16.916123",
   "version": "2.4.0"
  }
 },
 "nbformat": 4,
 "nbformat_minor": 5
}
