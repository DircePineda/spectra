{
 "cells": [
  {
   "cell_type": "code",
   "execution_count": 1,
   "id": "f5c80e97",
   "metadata": {
    "execution": {
     "iopub.execute_input": "2023-09-07T18:44:41.176397Z",
     "iopub.status.busy": "2023-09-07T18:44:41.175875Z",
     "iopub.status.idle": "2023-09-07T18:44:44.679917Z",
     "shell.execute_reply": "2023-09-07T18:44:44.678577Z"
    },
    "papermill": {
     "duration": 3.51268,
     "end_time": "2023-09-07T18:44:44.682766",
     "exception": false,
     "start_time": "2023-09-07T18:44:41.170086",
     "status": "completed"
    },
    "tags": []
   },
   "outputs": [],
   "source": [
    "# Asymmetric Least Squares\n",
    "import pandas as pd\n",
    "import numpy as np\n",
    "from scipy.optimize import minimize\n",
    "\n",
    "# Load CSV file\n",
    "data = pd.read_csv('/kaggle/input/blood-malaria/blood2hinfected532nm5pp.csv')\n",
    "\n",
    "# Extract spectral data\n",
    "spectra = data.iloc[:, 1:]\n",
    "\n",
    "# Asymmetric Least Squares (ALS)\n",
    "def asymmetric_least_squares(spectrum, P=0.001, lam=10**-5):\n",
    "    def als_objective(params):\n",
    "        baseline = params[0] + params[1] * np.arange(len(spectrum))\n",
    "        error = spectrum - baseline\n",
    "        return np.sum(error**2) + lam * np.sum((P * np.diff(error))**2)\n",
    "\n",
    "    result = minimize(als_objective, [0, 0], bounds=[(-np.inf, np.inf), (0, np.inf)])\n",
    "    baseline = result.x[0] + result.x[1] * np.arange(len(spectrum))\n",
    "    return baseline\n",
    "\n",
    "# Perform baseline correction\n",
    "baseline_corrected_spectra = spectra.apply(asymmetric_least_squares, axis=0)\n",
    "\n",
    "# Create new DataFrame\n",
    "corrected_data = pd.concat([data.iloc[:, 0], baseline_corrected_spectra], axis=1)\n",
    "\n",
    "# Save corrected data to new CSV file\n",
    "corrected_data.to_csv('ALS_corrected_data.csv', index=False)"
   ]
  }
 ],
 "kernelspec": {
  "display_name": "Python 3",
  "language": "python",
  "name": "python3"
 },
 "language_info": {
  "codemirror_mode": {
   "name": "ipython",
   "version": 3
  },
  "file_extension": ".py",
  "mimetype": "text/x-python",
  "name": "python",
  "nbconvert_exporter": "python",
  "pygments_lexer": "ipython3",
  "version": "3.6.4"
 },
 "metadata": {
  "kernelspec": {
   "display_name": "Python 3",
   "language": "python",
   "name": "python3"
  },
  "language_info": {
   "codemirror_mode": {
    "name": "ipython",
    "version": 3
   },
   "file_extension": ".py",
   "mimetype": "text/x-python",
   "name": "python",
   "nbconvert_exporter": "python",
   "pygments_lexer": "ipython3",
   "version": "3.10.12"
  },
  "papermill": {
   "default_parameters": {},
   "duration": 7.830034,
   "end_time": "2023-09-07T18:44:45.207065",
   "environment_variables": {},
   "exception": null,
   "input_path": "__notebook__.ipynb",
   "output_path": "__notebook__.ipynb",
   "parameters": {},
   "start_time": "2023-09-07T18:44:37.377031",
   "version": "2.4.0"
  }
 },
 "nbformat": 4,
 "nbformat_minor": 5
}
