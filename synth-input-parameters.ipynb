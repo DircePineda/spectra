{
 "cells": [
  {
   "cell_type": "code",
   "execution_count": 1,
   "id": "60a33693",
   "metadata": {
    "execution": {
     "iopub.execute_input": "2023-09-04T19:22:33.412178Z",
     "iopub.status.busy": "2023-09-04T19:22:33.411681Z",
     "iopub.status.idle": "2023-09-04T19:22:33.431923Z",
     "shell.execute_reply": "2023-09-04T19:22:33.430466Z"
    },
    "papermill": {
     "duration": 0.030361,
     "end_time": "2023-09-04T19:22:33.435533",
     "exception": false,
     "start_time": "2023-09-04T19:22:33.405172",
     "status": "completed"
    },
    "tags": []
   },
   "outputs": [
    {
     "name": "stdout",
     "output_type": "stream",
     "text": [
      "Number of pixels: 1024\n",
      "Polynomial order range: (3, 10)\n",
      "Number of peaks range: (2, 5)\n",
      "SNR range: (10, 100)\n",
      "Cosmic ray probability: 0.1\n",
      "Number of spectra: 50\n"
     ]
    }
   ],
   "source": [
    "# Input parameters\n",
    "class SpectraParameters:\n",
    "    def __init__(self, pixels, poly_order_range, num_peaks_range, snr_range, cosmic_ray_prob, num_spectra):\n",
    "        self.pixels = pixels\n",
    "        self.poly_order_range = poly_order_range\n",
    "        self.num_peaks_range = num_peaks_range\n",
    "        self.snr_range = snr_range\n",
    "        self.cosmic_ray_prob = cosmic_ray_prob\n",
    "        self.num_spectra = num_spectra\n",
    "\n",
    "# Define parameter ranges\n",
    "poly_order_range = (3, 10)\n",
    "num_peaks_range = (2, 5)\n",
    "snr_range = (10, 100)\n",
    "cosmic_ray_prob = 0.1\n",
    "num_spectra = 50\n",
    "\n",
    "# Create instance of SpectraParameters\n",
    "spectra_params = SpectraParameters(\n",
    "    pixels=1024,\n",
    "    poly_order_range=poly_order_range,\n",
    "    num_peaks_range=num_peaks_range,\n",
    "    snr_range=snr_range,\n",
    "    cosmic_ray_prob=cosmic_ray_prob,\n",
    "    num_spectra=num_spectra\n",
    ")\n",
    "\n",
    "# Access & print parameter values\n",
    "print(\"Number of pixels:\", spectra_params.pixels)\n",
    "print(\"Polynomial order range:\", spectra_params.poly_order_range)\n",
    "print(\"Number of peaks range:\", spectra_params.num_peaks_range)\n",
    "print(\"SNR range:\", spectra_params.snr_range)\n",
    "print(\"Cosmic ray probability:\", spectra_params.cosmic_ray_prob)\n",
    "print(\"Number of spectra:\", spectra_params.num_spectra)"
   ]
  }
 ],
 "kernelspec": {
  "display_name": "Python 3",
  "language": "python",
  "name": "python3"
 },
 "language_info": {
  "codemirror_mode": {
   "name": "ipython",
   "version": 3
  },
  "file_extension": ".py",
  "mimetype": "text/x-python",
  "name": "python",
  "nbconvert_exporter": "python",
  "pygments_lexer": "ipython3",
  "version": "3.6.4"
 },
 "metadata": {
  "kernelspec": {
   "display_name": "Python 3",
   "language": "python",
   "name": "python3"
  },
  "language_info": {
   "codemirror_mode": {
    "name": "ipython",
    "version": 3
   },
   "file_extension": ".py",
   "mimetype": "text/x-python",
   "name": "python",
   "nbconvert_exporter": "python",
   "pygments_lexer": "ipython3",
   "version": "3.10.12"
  },
  "papermill": {
   "default_parameters": {},
   "duration": 14.5006,
   "end_time": "2023-09-04T19:22:34.665473",
   "environment_variables": {},
   "exception": null,
   "input_path": "__notebook__.ipynb",
   "output_path": "__notebook__.ipynb",
   "parameters": {},
   "start_time": "2023-09-04T19:22:20.164873",
   "version": "2.4.0"
  }
 },
 "nbformat": 4,
 "nbformat_minor": 5
}
