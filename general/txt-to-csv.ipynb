{
 "cells": [
  {
   "cell_type": "code",
   "execution_count": 1,
   "id": "d5a9e547",
   "metadata": {
    "execution": {
     "iopub.execute_input": "2023-08-28T20:03:24.954874Z",
     "iopub.status.busy": "2023-08-28T20:03:24.954346Z",
     "iopub.status.idle": "2023-08-28T20:03:25.914295Z",
     "shell.execute_reply": "2023-08-28T20:03:25.912751Z"
    },
    "papermill": {
     "duration": 0.967881,
     "end_time": "2023-08-28T20:03:25.917181",
     "exception": false,
     "start_time": "2023-08-28T20:03:24.949300",
     "status": "completed"
    },
    "tags": []
   },
   "outputs": [
    {
     "name": "stdout",
     "output_type": "stream",
     "text": [
      "Data successfully converted and saved to '/kaggle/working/bloodinfectxt.csv'.\n"
     ]
    }
   ],
   "source": [
    "# Concise tranformation\n",
    "import csv\n",
    "\n",
    "# Input and output file paths\n",
    "input_file = '/kaggle/input/bloodinfectxt/blood2hinfected532nm5pp.txt'\n",
    "output_file = '/kaggle/working/bloodinfectxt.csv'\n",
    "\n",
    "# Read the input data from the text file\n",
    "with open(input_file, 'r') as f:\n",
    "    lines = f.readlines()\n",
    "\n",
    "# Remove any leading/trailing whitespaces and split the data using tabs\n",
    "data = [line.strip().split('\\t') for line in lines]\n",
    "\n",
    "# Write the data to a CSV file\n",
    "with open(output_file, 'w', newline='') as f:\n",
    "    writer = csv.writer(f)\n",
    "    # Writing header row\n",
    "    writer.writerow([\"X\", \"Y\", \"Wave\", \"Intensity\"])\n",
    "    # Writing the rest of the data rows\n",
    "    writer.writerows(data)\n",
    "\n",
    "print(f\"Data successfully converted and saved to '{output_file}'.\")"
   ]
  },
  {
   "cell_type": "code",
   "execution_count": 2,
   "id": "5cbc86f4",
   "metadata": {
    "execution": {
     "iopub.execute_input": "2023-08-28T20:03:25.923782Z",
     "iopub.status.busy": "2023-08-28T20:03:25.923397Z",
     "iopub.status.idle": "2023-08-28T20:03:26.673970Z",
     "shell.execute_reply": "2023-08-28T20:03:26.672720Z"
    },
    "papermill": {
     "duration": 0.75732,
     "end_time": "2023-08-28T20:03:26.677069",
     "exception": false,
     "start_time": "2023-08-28T20:03:25.919749",
     "status": "completed"
    },
    "tags": []
   },
   "outputs": [],
   "source": [
    "# Extract columns\n",
    "import pandas as pd\n",
    "\n",
    "# Load the CSV file into a DataFrame\n",
    "df = pd.read_csv('/kaggle/working/bloodinfectxt.csv', dtype=str) # dtype varies from: str (string or object) or float floating-point numbers\n",
    "\n",
    "# Extract the '#X' and '#Y' columns\n",
    "new_df = df.iloc[:, [0, 1]]\n",
    "\n",
    "# Save the extracted columns to a new CSV file\n",
    "new_df.to_csv('/kaggle/working/bloodinfectxt.extracted.csv', index=False)"
   ]
  },
  {
   "cell_type": "markdown",
   "id": "4940b7f3",
   "metadata": {
    "papermill": {
     "duration": 0.001958,
     "end_time": "2023-08-28T20:03:26.681392",
     "exception": false,
     "start_time": "2023-08-28T20:03:26.679434",
     "status": "completed"
    },
    "tags": []
   },
   "source": []
  }
 ],
 "metadata": {
  "kernelspec": {
   "display_name": "Python 3",
   "language": "python",
   "name": "python3"
  },
  "language_info": {
   "codemirror_mode": {
    "name": "ipython",
    "version": 3
   },
   "file_extension": ".py",
   "mimetype": "text/x-python",
   "name": "python",
   "nbconvert_exporter": "python",
   "pygments_lexer": "ipython3",
   "version": "3.10.12"
  },
  "papermill": {
   "default_parameters": {},
   "duration": 15.289762,
   "end_time": "2023-08-28T20:03:27.708031",
   "environment_variables": {},
   "exception": null,
   "input_path": "__notebook__.ipynb",
   "output_path": "__notebook__.ipynb",
   "parameters": {},
   "start_time": "2023-08-28T20:03:12.418269",
   "version": "2.4.0"
  }
 },
 "nbformat": 4,
 "nbformat_minor": 5
}
